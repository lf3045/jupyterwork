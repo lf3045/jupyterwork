{
 "cells": [
  {
   "cell_type": "code",
   "execution_count": null,
   "metadata": {
    "collapsed": true
   },
   "outputs": [],
   "source": [
    "import os\n",
    "\n",
    "print(os.getcwd()) # 打印当前工作目录\n",
    "\n",
    "os.chdir('/public/liufei/sf/delly_v0.77') # 将当前工作目录改变为` "
   ]
  },
  {
   "cell_type": "code",
   "execution_count": null,
   "metadata": {
    "collapsed": true
   },
   "outputs": [],
   "source": [
    "vcf=open(\"QH12.DEL.vcf\")\n",
    "\n",
    "gtf=\"/public/liufei/work/20170728_genome/QH_fungus_genome/ncbi-genomes-2017-08-07/GCF_000320785.1_RHOziaDV1.0_genomic.gff\"\n",
    "out=open(\"out\",\"w\")\n",
    "\n",
    "line=0\n",
    "for i in vcf.readlines():\n",
    "    i=i.rstrip()\n",
    "    if(\"##\" in i):\n",
    "        continue\n",
    "    line=line+1\n",
    "    if(line==1):\n",
    "        out.write(i+\"\\t\"+\"annotation\"+\"\\n\")\n",
    "        continue\n",
    "    s=i.split(\"\\t\")\n",
    "    scaffold=s[0]\n",
    "    pos=s[1]\n",
    "    desription=\"intergenic\"\n",
    "    for anno in open(gtf).readlines():\n",
    "        anno=anno.strip()\n",
    "        lines=anno.split(\"\\t\")\n",
    "        \n",
    "        if(\"#\" in anno ):\n",
    "            continue\n",
    " \n",
    "        if(  lines[2]==\"mRNA\" and scaffold== lines[0] and int(pos)>=int(lines[3]) and int(pos)<=int(lines[4])):\n",
    "            desription=lines[8]\n",
    "            break\n",
    "    out.write(i+\"\\t\"+desription+\"\\n\")\n",
    "    \n",
    "out.close()\n",
    "            "
   ]
  },
  {
   "cell_type": "code",
   "execution_count": null,
   "metadata": {},
   "outputs": [
    {
     "name": "stdout",
     "output_type": "stream",
     "text": [
      "\u001b7\u001b[?47h\u001b[?1h\u001b=\r",
      "#CHROM  POS     ID      REF     ALT     QUAL    FILTER  INFO    FORMAT  QH2_1.fa \bstq.gz.sort_read        annotation\r\n",
      "NW_015622961.1  812817  DEL00000000     CCGAGGGACTCTNNNNNNNNNN  C       0        \bPASS    PRECISE;SVTYPE=DEL;SVMETHOD=EMBL.DELLYv0.7.7;CHR2=NW_015622961.1;END=812 \b839;PE=0;MAPQ=29;CT=3to5;CIPOS=-12,12;CIEND=-12,12;INSLEN=0;HOMLEN=11;SR=10;SRQ= \b0.993671;CONSENSUS=AGGCAGCCAAGGTCGTCGGGAATGCGATCGCGACTCCCTACTCGCCCGCAACACCTGCTCC \bTTCGCGACCTCCAGCACCTTCAGGACGGCCAGGGACAGCGGGCAGCAGCGGCGGCGGAAGCCGAGGGACTCTATTCAGCG \bCGAGTCGGCGGAAGAAC;CE=1.89642    GT:GL:GQ:FT:RCL:RC:RCR:CN:DR:DV:RR:RV   1/1:-780 \b.518,-81.3974,0:10000:PASS:2069:837:1779:0:0:0:0:271    ID=rna333;Parent=gene333 \b;Dbxref=GeneID:27364347,Genbank:XM_016414018.1;Name=XM_016414018.1;end_range=815 \b542,.;gbkey=mRNA;partial=true;product=ubiquitin carboxyl-terminal hydrolase 12/4 \b6;start_range=.,812081;transcript_id=XM_016414018.1\r\n",
      "NW_015622961.1  827975  DEL00000001     CNNNNNNNNNNNNNNNNNNNNNNNNNNNNNNNNN       \bC       .       PASS    PRECISE;SVTYPE=DEL;SVMETHOD=EMBL.DELLYv0.7.7;CHR2=NW_015 \b622961.1;END=828009;PE=0;MAPQ=29;CT=3to5;CIPOS=-1,1;CIEND=-1,1;INSLEN=0;HOMLEN=0 \b;SR=10;SRQ=0.988764;CONSENSUS=CGGTTTCATAGCGAGCCCACACGCCCTTCCCCTCGTCCTCGCCGTCCTCG \bACCTCGCATCTTTTCCTCGACCTGCCACTCTCGCCGGCTGGATGCGATGGAAACTCGTAGACGGCGTGCAGGAGCTGGAA \bTGCAGAACGAGTCTATCGGAGATGAAGCAGCGGGAGGCGAGCACCGTT;CE=1.95686     GT:GL:GQ:FT:RCL: \bRC:RCR:CN:DR:DV:RR:RV   1/1:-732.325,-76.889,0:10000:PASS:3043:236:3167:0:0:0:0: \b256     ID=rna340;Parent=gene340;Dbxref=GeneID:27364354,Genbank:XM_016414025.1;N \bame=XM_016414025.1;end_range=829192,.;gbkey=mRNA;partial=true;product=hypothetic \bal protein;start_range=.,827910;transcript_id=XM_016414025.1\r\n",
      "NW_015622961.1  1086862 DEL00000002     GCTTTTATGCATTGTAC       G       .        \b\u001b[7mout\u001b[m\u001b[K"
     ]
    }
   ],
   "source": [
    "!less out"
   ]
  },
  {
   "cell_type": "code",
   "execution_count": null,
   "metadata": {
    "collapsed": true
   },
   "outputs": [],
   "source": []
  },
  {
   "cell_type": "code",
   "execution_count": null,
   "metadata": {
    "collapsed": true
   },
   "outputs": [],
   "source": []
  }
 ],
 "metadata": {
  "kernelspec": {
   "display_name": "Python 3",
   "language": "python",
   "name": "python3"
  },
  "language_info": {
   "codemirror_mode": {
    "name": "ipython",
    "version": 2
   },
   "file_extension": ".py",
   "mimetype": "text/x-python",
   "name": "python",
   "nbconvert_exporter": "python",
   "pygments_lexer": "ipython2",
   "version": "2.7.13"
  }
 },
 "nbformat": 4,
 "nbformat_minor": 2
}
